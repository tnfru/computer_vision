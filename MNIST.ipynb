{
 "cells": [
  {
   "cell_type": "code",
   "execution_count": 1,
   "metadata": {},
   "outputs": [],
   "source": [
    "import numpy as np\n",
    "import torch as t\n",
    "import torch.nn as nn\n",
    "import torch.optim as optim\n",
    "from torchvision import datasets, transforms\n",
    "import matplotlib.pyplot as plt"
   ]
  },
  {
   "cell_type": "code",
   "execution_count": 2,
   "metadata": {},
   "outputs": [],
   "source": [
    "tr = transforms.Compose([transforms.ToTensor(), transforms.Normalize((0.5,), (0.5,))])"
   ]
  },
  {
   "cell_type": "code",
   "execution_count": 3,
   "metadata": {},
   "outputs": [],
   "source": [
    "train_data = datasets.MNIST('./MNIST_data/', download=True, train=True, transform=tr)\n",
    "train_loader = t.utils.data.DataLoader(train_data, batch_size=64, shuffle=True)\n",
    "test_data = datasets.MNIST(root='./MNIST_data', train=False, download=True, transform=tr)\n",
    "test_loader = t.utils.data.DataLoader(test_data, batch_size=len(test_data), shuffle=True, num_workers=1)"
   ]
  },
  {
   "cell_type": "code",
   "execution_count": 4,
   "metadata": {},
   "outputs": [
    {
     "data": {
      "image/png": "[encoded data removed]",
      "text/plain": [
       "<Figure size 432x288 with 1 Axes>"
      ]
     },
     "metadata": {
      "needs_background": "light"
     },
     "output_type": "display_data"
    }
   ],
   "source": [
    "plt.imshow(train_data[2][0].reshape(28, 28), cmap='gray');"
   ]
  },
  {
   "cell_type": "code",
   "execution_count": 5,
   "metadata": {},
   "outputs": [],
   "source": [
    "class Net(nn.Module):\n",
    "    def __init__(self):\n",
    "        super(Net, self).__init__()\n",
    "        self.layer1 = nn.Sequential(nn.Conv2d(1, 5, 3, padding=1), \n",
    "                                    nn.BatchNorm2d(5), \n",
    "                                    nn.ReLU(),\n",
    "                                    nn.MaxPool2d(3))\n",
    "        self.layer2 = nn.Sequential(nn.Conv2d(5, 5, 3, padding=1), \n",
    "                                    nn.BatchNorm2d(5), \n",
    "                                    nn.ReLU(),\n",
    "                                    nn.MaxPool2d(3))\n",
    "        self.layer3 = nn.Sequential(nn.Linear(45, 32), \n",
    "                                    nn.ReLU())\n",
    "        self.layer4 = nn.Sequential(nn.Linear(32, 10))\n",
    "\n",
    "    def forward(self, X):\n",
    "        X = self.layer1(X)\n",
    "        X = self.layer2(X)\n",
    "        X = X.reshape(X.size(0), -1)\n",
    "        X = self.layer3(X)        \n",
    "        X = self.layer4(X)\n",
    "        return X\n",
    "    \n",
    "    def evaluate(self, X):\n",
    "        if len(X.size()) == 3:\n",
    "            X.unsqueeze(0)\n",
    "        Y = self.forward(X)\n",
    "        return t.argmax(Y, dim=1)"
   ]
  },
  {
   "cell_type": "code",
   "execution_count": 6,
   "metadata": {},
   "outputs": [],
   "source": [
    "net = Net()\n",
    "params = list(net.parameters())\n",
    "opt = optim.Adam(params)\n",
    "criterion = nn.CrossEntropyLoss()"
   ]
  },
  {
   "cell_type": "code",
   "execution_count": 7,
   "metadata": {},
   "outputs": [],
   "source": [
    "epochs = 3"
   ]
  },
  {
   "cell_type": "code",
   "execution_count": 8,
   "metadata": {
    "scrolled": true
   },
   "outputs": [
    {
     "name": "stdout",
     "output_type": "stream",
     "text": [
      "Epoche: 1 Batch: 100 Loss: 1.5561614036560059\n",
      "Epoche: 1 Batch: 200 Loss: 0.722811222076416\n",
      "Epoche: 1 Batch: 300 Loss: 0.48298007249832153\n",
      "Epoche: 1 Batch: 400 Loss: 0.43023988604545593\n",
      "Epoche: 1 Batch: 500 Loss: 0.22393092513084412\n",
      "Epoche: 1 Batch: 600 Loss: 0.21285323798656464\n",
      "Epoche: 1 Batch: 700 Loss: 0.17493967711925507\n",
      "Epoche: 1 Batch: 800 Loss: 0.276254802942276\n",
      "Epoche: 1 Batch: 900 Loss: 0.09695180505514145\n",
      "Epoche: 2 Batch: 100 Loss: 0.18157798051834106\n",
      "Epoche: 2 Batch: 200 Loss: 0.15422655642032623\n",
      "Epoche: 2 Batch: 300 Loss: 0.12359651178121567\n",
      "Epoche: 2 Batch: 400 Loss: 0.18381859362125397\n",
      "Epoche: 2 Batch: 500 Loss: 0.2202836275100708\n",
      "Epoche: 2 Batch: 600 Loss: 0.15951497852802277\n",
      "Epoche: 2 Batch: 700 Loss: 0.0681302398443222\n",
      "Epoche: 2 Batch: 800 Loss: 0.11603327840566635\n",
      "Epoche: 2 Batch: 900 Loss: 0.10991547256708145\n",
      "Epoche: 3 Batch: 100 Loss: 0.11761859804391861\n",
      "Epoche: 3 Batch: 200 Loss: 0.13765768706798553\n",
      "Epoche: 3 Batch: 300 Loss: 0.12563900649547577\n",
      "Epoche: 3 Batch: 400 Loss: 0.16306714713573456\n",
      "Epoche: 3 Batch: 500 Loss: 0.16527089476585388\n",
      "Epoche: 3 Batch: 600 Loss: 0.07029741257429123\n",
      "Epoche: 3 Batch: 700 Loss: 0.16601666808128357\n",
      "Epoche: 3 Batch: 800 Loss: 0.06883493810892105\n",
      "Epoche: 3 Batch: 900 Loss: 0.1754973828792572\n"
     ]
    }
   ],
   "source": [
    "for i in range(epochs):\n",
    "    for j, (inputs, labels) in enumerate(train_loader):\n",
    "        opt.zero_grad()\n",
    "        outputs = net(inputs)\n",
    "        loss = criterion(outputs, labels)\n",
    "        loss.backward()\n",
    "        opt.step()\n",
    "        \n",
    "        if (j + 1) % 100 == 0:\n",
    "            print(\"Epoche:\", i + 1, \"Batch:\", j + 1, \"Loss:\", loss.item())"
   ]
  },
  {
   "cell_type": "code",
   "execution_count": 9,
   "metadata": {
    "scrolled": true
   },
   "outputs": [
    {
     "data": {
      "image/png": "[encoded data removed]",
      "text/plain": [
       "<Figure size 432x288 with 1 Axes>"
      ]
     },
     "metadata": {
      "needs_background": "light"
     },
     "output_type": "display_data"
    }
   ],
   "source": [
    "x, y = test_data[2]\n",
    "plt.imshow(x.reshape(28, 28), cmap='gray');"
   ]
  },
  {
   "cell_type": "code",
   "execution_count": 10,
   "metadata": {
    "scrolled": true
   },
   "outputs": [
    {
     "data": {
      "text/plain": [
       "1"
      ]
     },
     "execution_count": 10,
     "metadata": {},
     "output_type": "execute_result"
    }
   ],
   "source": [
    "net.evaluate(x.unsqueeze(0)).item()"
   ]
  },
  {
   "cell_type": "code",
   "execution_count": 11,
   "metadata": {},
   "outputs": [
    {
     "data": {
      "text/plain": [
       "Net(\n",
       "  (layer1): Sequential(\n",
       "    (0): Conv2d(1, 5, kernel_size=(3, 3), stride=(1, 1), padding=(1, 1))\n",
       "    (1): BatchNorm2d(5, eps=1e-05, momentum=0.1, affine=True, track_running_stats=True)\n",
       "    (2): ReLU()\n",
       "    (3): MaxPool2d(kernel_size=3, stride=3, padding=0, dilation=1, ceil_mode=False)\n",
       "  )\n",
       "  (layer2): Sequential(\n",
       "    (0): Conv2d(5, 5, kernel_size=(3, 3), stride=(1, 1), padding=(1, 1))\n",
       "    (1): BatchNorm2d(5, eps=1e-05, momentum=0.1, affine=True, track_running_stats=True)\n",
       "    (2): ReLU()\n",
       "    (3): MaxPool2d(kernel_size=3, stride=3, padding=0, dilation=1, ceil_mode=False)\n",
       "  )\n",
       "  (layer3): Sequential(\n",
       "    (0): Linear(in_features=45, out_features=32, bias=True)\n",
       "    (1): ReLU()\n",
       "  )\n",
       "  (layer4): Sequential(\n",
       "    (0): Linear(in_features=32, out_features=10, bias=True)\n",
       "  )\n",
       ")"
      ]
     },
     "execution_count": 11,
     "metadata": {},
     "output_type": "execute_result"
    }
   ],
   "source": [
    "net.train(False)"
   ]
  },
  {
   "cell_type": "code",
   "execution_count": 12,
   "metadata": {},
   "outputs": [
    {
     "data": {
      "text/plain": [
       "0.9660999774932861"
      ]
     },
     "execution_count": 12,
     "metadata": {},
     "output_type": "execute_result"
    }
   ],
   "source": [
    "test_x, test_labels = [(data, target) for data, target in test_loader][0]\n",
    "predicted_class = net.evaluate(test_x)\n",
    "\n",
    "(predicted_class == test_labels).float().mean().item()"
   ]
  }
 ],
 "metadata": {
  "kernelspec": {
   "display_name": "Python 3",
   "language": "python",
   "name": "python3"
  },
  "language_info": {
   "codemirror_mode": {
    "name": "ipython",
    "version": 3
   },
   "file_extension": ".py",
   "mimetype": "text/x-python",
   "name": "python",
   "nbconvert_exporter": "python",
   "pygments_lexer": "ipython3",
   "version": "3.7.5"
  }
 },
 "nbformat": 4,
 "nbformat_minor": 2
}
