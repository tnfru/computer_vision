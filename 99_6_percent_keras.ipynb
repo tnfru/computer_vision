{
  "nbformat": 4,
  "nbformat_minor": 0,
  "metadata": {
    "colab": {
      "name": "MNIST.ipynb",
      "provenance": [],
      "collapsed_sections": [],
      "authorship_tag": "ABX9TyM89kOIzAGNmE3E0VYCVi8E",
      "include_colab_link": true
    },
    "kernelspec": {
      "name": "python3",
      "display_name": "Python 3"
    },
    "accelerator": "GPU"
  },
  "cells": [
    {
      "cell_type": "markdown",
      "metadata": {
        "id": "view-in-github",
        "colab_type": "text"
      },
      "source": [
        "<a href=\"https://colab.research.google.com/github/tnfru/colab_research/blob/master/MNIST_99percent.ipynb\" target=\"_parent\"><img src=\"https://colab.research.google.com/assets/colab-badge.svg\" alt=\"Open In Colab\"/></a>"
      ]
    },
    {
      "cell_type": "code",
      "metadata": {
        "id": "GAEjvT4kDEbe",
        "colab_type": "code",
        "outputId": "155b7c18-b6ab-42ea-89dc-6d1856576491",
        "colab": {
          "base_uri": "https://localhost:8080/",
          "height": 34
        }
      },
      "source": [
        "import os, sys, math\n",
        "if 'google.colab' in sys.modules: # Colab-only Tensorflow version selector\n",
        "  %tensorflow_version 2.x\n",
        "import tensorflow as tf\n",
        "AUTO = tf.data.experimental.AUTOTUNE\n",
        "from google.colab import drive"
      ],
      "execution_count": 1,
      "outputs": [
        {
          "output_type": "stream",
          "text": [
            "TensorFlow 2.x selected.\n"
          ],
          "name": "stdout"
        }
      ]
    },
    {
      "cell_type": "code",
      "metadata": {
        "id": "xarK-xWwJtN7",
        "colab_type": "code",
        "colab": {}
      },
      "source": [
        "import pandas as pd\n",
        "import numpy as np\n",
        "from matplotlib import pyplot as plt\n",
        "import seaborn as sns\n",
        "from sklearn.utils import shuffle\n",
        "from keras.utils.np_utils import to_categorical"
      ],
      "execution_count": 0,
      "outputs": []
    },
    {
      "cell_type": "code",
      "metadata": {
        "id": "qqdQpoVaDdBo",
        "colab_type": "code",
        "outputId": "29b07fd7-d7dd-4264-b1ad-8a7b5a19b73c",
        "colab": {
          "base_uri": "https://localhost:8080/",
          "height": 52
        }
      },
      "source": [
        "try: \n",
        "  tpu = tf.distribute.cluster_resolver.TPUClusterResolver()\n",
        "except ValueError:\n",
        "  tpu = None\n",
        "  gpus = tf.config.experimental.list_logical_devices(\"GPU\")\n",
        "\n",
        "if tpu:\n",
        "  tf.config.experimental_connect_to_cluster(tpu)\n",
        "  tf.tpu.experimental.initialize_tpu_system(tpu)\n",
        "  strategy = tf.distribute.experimental.TPUStrategy(tpu)\n",
        "  print('Running on TPU ', tpu.master())  \n",
        "elif len(gpus) > 0:\n",
        "  strategy = tf.distribute.MirroredStrategy(gpus)\n",
        "  print('Running on ', len(gpus), ' GPU(s) ')\n",
        "else:\n",
        "  strategy = tf.distribute.get_strategy()\n",
        "  print('Running on CPU')"
      ],
      "execution_count": 3,
      "outputs": [
        {
          "output_type": "stream",
          "text": [
            "INFO:tensorflow:Using MirroredStrategy with devices ('/job:localhost/replica:0/task:0/device:GPU:0',)\n",
            "Running on  1  GPU(s) \n"
          ],
          "name": "stdout"
        }
      ]
    },
    {
      "cell_type": "code",
      "metadata": {
        "id": "6gFebgFYXIxt",
        "colab_type": "code",
        "colab": {}
      },
      "source": [
        "def display_training_curves(training, validation, title, subplot):\n",
        "  #stolen from google colab\n",
        "  if subplot%10==1:\n",
        "    plt.subplots(figsize=(10,10), facecolor='#F0F0F0')\n",
        "    plt.tight_layout()\n",
        "  ax = plt.subplot(subplot)\n",
        "  ax.set_facecolor('#F8F8F8')\n",
        "  ax.plot(training)\n",
        "  ax.plot(validation)\n",
        "  ax.set_title('model '+ title)\n",
        "  ax.set_ylabel(title)\n",
        "  ax.set_xlabel('epoch')\n",
        "  ax.legend(['train', 'valid.'])"
      ],
      "execution_count": 0,
      "outputs": []
    },
    {
      "cell_type": "code",
      "metadata": {
        "id": "oSx7U8mVEHtP",
        "colab_type": "code",
        "colab": {
          "base_uri": "https://localhost:8080/",
          "height": 34
        },
        "outputId": "718ace1b-476d-4d08-c943-315ade14ae2b"
      },
      "source": [
        "drive.mount('/content/drive')"
      ],
      "execution_count": 5,
      "outputs": [
        {
          "output_type": "stream",
          "text": [
            "Drive already mounted at /content/drive; to attempt to forcibly remount, call drive.mount(\"/content/drive\", force_remount=True).\n"
          ],
          "name": "stdout"
        }
      ]
    },
    {
      "cell_type": "code",
      "metadata": {
        "id": "_9VGzQq1G9N0",
        "colab_type": "code",
        "colab": {
          "base_uri": "https://localhost:8080/",
          "height": 34
        },
        "outputId": "74c4baf2-1155-4cd9-8a26-891e65ecdb3a"
      },
      "source": [
        "PATH=\"/content/drive/My Drive/data/\"\n",
        "\n",
        "train_df = shuffle(pd.read_csv(PATH + \"train.csv\"))\n",
        "test_df = pd.read_csv(PATH + \"test.csv\") / 255\n",
        "test = test_df.values.reshape(-1, 28, 28, 1)\n",
        "sample_submission = pd.read_csv(PATH + \"sample_submission.csv\")\n",
        "train_df.shape"
      ],
      "execution_count": 6,
      "outputs": [
        {
          "output_type": "execute_result",
          "data": {
            "text/plain": [
              "(42000, 785)"
            ]
          },
          "metadata": {
            "tags": []
          },
          "execution_count": 6
        }
      ]
    },
    {
      "cell_type": "code",
      "metadata": {
        "id": "beuhl2ko2u-M",
        "colab_type": "code",
        "colab": {
          "base_uri": "https://localhost:8080/",
          "height": 34
        },
        "outputId": "deab573a-9264-4d5b-b796-fe2884326930"
      },
      "source": [
        "train_df.isnull().any().sum(), test_df.isnull().any().sum()"
      ],
      "execution_count": 7,
      "outputs": [
        {
          "output_type": "execute_result",
          "data": {
            "text/plain": [
              "(0, 0)"
            ]
          },
          "metadata": {
            "tags": []
          },
          "execution_count": 7
        }
      ]
    },
    {
      "cell_type": "code",
      "metadata": {
        "colab_type": "code",
        "id": "wWhnxgKcK3f1",
        "colab": {}
      },
      "source": [
        "IMG_SIZE = [28, 28]\n",
        "BATCH_SIZE = 64\n",
        "VALIDATION_SPLIT = 0.1\n",
        "SPLIT = int(len(train_df) * VALIDATION_SPLIT)\n",
        "\n",
        "val_df = train_df[:SPLIT]\n",
        "train_df = train_df[SPLIT:]"
      ],
      "execution_count": 0,
      "outputs": []
    },
    {
      "cell_type": "code",
      "metadata": {
        "id": "AxqM9jsKMI4P",
        "colab_type": "code",
        "colab": {
          "base_uri": "https://localhost:8080/",
          "height": 279
        },
        "outputId": "910c1c0d-0dc2-44c5-a1a9-8e533397c12d"
      },
      "source": [
        "sns.countplot(train_df['label']);"
      ],
      "execution_count": 9,
      "outputs": [
        {
          "output_type": "display_data",
          "data": {
            "image/png": "[encoded data removed]",
            "text/plain": [
              "<Figure size 432x288 with 1 Axes>"
            ]
          },
          "metadata": {
            "tags": []
          }
        }
      ]
    },
    {
      "cell_type": "code",
      "metadata": {
        "id": "6fRe2iY_10uQ",
        "colab_type": "code",
        "colab": {
          "base_uri": "https://localhost:8080/",
          "height": 279
        },
        "outputId": "7e7a4f60-5935-4b14-bbb7-7f8505052c59"
      },
      "source": [
        "sns.countplot(val_df['label']);"
      ],
      "execution_count": 10,
      "outputs": [
        {
          "output_type": "display_data",
          "data": {
            "image/png": "[encoded data removed]",
            "text/plain": [
              "<Figure size 432x288 with 1 Axes>"
            ]
          },
          "metadata": {
            "tags": []
          }
        }
      ]
    },
    {
      "cell_type": "code",
      "metadata": {
        "id": "HeM6bdoUK-3X",
        "colab_type": "code",
        "colab": {}
      },
      "source": [
        "train_target = train_df.pop('label').values\n",
        "train_target = to_categorical(train_target, num_classes=10)\n",
        "val_target = val_df.pop('label').values\n",
        "val_target = to_categorical(val_target, num_classes=10)\n",
        "\n",
        "train_values = train_df.values.reshape(-1, 28, 28, 1) / 255\n",
        "val_values = val_df.values.reshape(-1, 28, 28, 1) / 255\n",
        "\n",
        "train = tf.data.Dataset.from_tensor_slices((train_values, train_target))\n",
        "val = tf.data.Dataset.from_tensor_slices((val_values, val_target))"
      ],
      "execution_count": 0,
      "outputs": []
    },
    {
      "cell_type": "code",
      "metadata": {
        "id": "Gu45coDa2SwH",
        "colab_type": "code",
        "colab": {}
      },
      "source": [
        "def get_batched_dataset(dataset, train=False):\n",
        "  if train:\n",
        "    dataset = dataset.repeat()\n",
        "    dataset = dataset.shuffle(1337)\n",
        "\n",
        "  dataset = dataset.batch(BATCH_SIZE)\n",
        "  dataset = dataset.prefetch(AUTO)\n",
        "  return dataset"
      ],
      "execution_count": 0,
      "outputs": []
    },
    {
      "cell_type": "code",
      "metadata": {
        "id": "laAnNyWf78Jg",
        "colab_type": "code",
        "colab": {}
      },
      "source": [
        "l = tf.keras.layers"
      ],
      "execution_count": 0,
      "outputs": []
    },
    {
      "cell_type": "code",
      "metadata": {
        "id": "2Q1iasj28IzN",
        "colab_type": "code",
        "colab": {}
      },
      "source": [
        "def create_model():\n",
        "  model = tf.keras.Sequential([\n",
        "      l.Conv2D(kernel_size=3, filters=16, padding='same', activation='relu', input_shape=(*IMG_SIZE, 1)),\n",
        "      l.BatchNormalization(),\n",
        "      l.Conv2D(kernel_size=3, filters=32, padding='same', activation='relu'),\n",
        "      l.BatchNormalization(),\n",
        "      l.MaxPooling2D(),\n",
        "      l.Dropout(0.5),\n",
        "\n",
        "      l.Conv2D(kernel_size=3, filters=64, padding='same', activation='relu'),\n",
        "      l.BatchNormalization(),\n",
        "      l.Conv2D(kernel_size=3, filters=64, padding='same', activation='relu'),\n",
        "      l.BatchNormalization(),\n",
        "      l.MaxPooling2D(),\n",
        "      l.Dropout(0.5),\n",
        "\n",
        "      l.Conv2D(kernel_size=3, filters=128, padding='same', activation='relu'),\n",
        "      l.BatchNormalization(),\n",
        "      l.Conv2D(kernel_size=3, filters=128, padding='same', activation='relu'),\n",
        "      l.BatchNormalization(),\n",
        "      l.MaxPooling2D(),\n",
        "      l.Dropout(0.5),\n",
        "\n",
        "      l.Conv2D(kernel_size=3, filters=128, activation='relu'),\n",
        "      l.BatchNormalization(),\n",
        "      l.Flatten(),\n",
        "      l.Dense(10, activation='softmax')\n",
        "  ])\n",
        "\n",
        "  model.compile(\n",
        "      optimizer='adam',\n",
        "      loss='categorical_crossentropy',\n",
        "      metrics=['accuracy']\n",
        "  )\n",
        "\n",
        "  return model"
      ],
      "execution_count": 0,
      "outputs": []
    },
    {
      "cell_type": "code",
      "metadata": {
        "id": "Lu6VpZ1g-lNy",
        "colab_type": "code",
        "colab": {
          "base_uri": "https://localhost:8080/",
          "height": 920
        },
        "outputId": "001b2655-8a2c-41b6-b793-60aabe2042f7"
      },
      "source": [
        "with strategy.scope():\n",
        "  model = create_model()\n",
        "\n",
        "  model.summary()"
      ],
      "execution_count": 35,
      "outputs": [
        {
          "output_type": "stream",
          "text": [
            "Model: \"sequential_2\"\n",
            "_________________________________________________________________\n",
            "Layer (type)                 Output Shape              Param #   \n",
            "=================================================================\n",
            "conv2d_13 (Conv2D)           (None, 28, 28, 16)        160       \n",
            "_________________________________________________________________\n",
            "batch_normalization_13 (Batc (None, 28, 28, 16)        64        \n",
            "_________________________________________________________________\n",
            "conv2d_14 (Conv2D)           (None, 28, 28, 32)        4640      \n",
            "_________________________________________________________________\n",
            "batch_normalization_14 (Batc (None, 28, 28, 32)        128       \n",
            "_________________________________________________________________\n",
            "max_pooling2d_6 (MaxPooling2 (None, 14, 14, 32)        0         \n",
            "_________________________________________________________________\n",
            "dropout_6 (Dropout)          (None, 14, 14, 32)        0         \n",
            "_________________________________________________________________\n",
            "conv2d_15 (Conv2D)           (None, 14, 14, 64)        18496     \n",
            "_________________________________________________________________\n",
            "batch_normalization_15 (Batc (None, 14, 14, 64)        256       \n",
            "_________________________________________________________________\n",
            "conv2d_16 (Conv2D)           (None, 14, 14, 64)        36928     \n",
            "_________________________________________________________________\n",
            "batch_normalization_16 (Batc (None, 14, 14, 64)        256       \n",
            "_________________________________________________________________\n",
            "max_pooling2d_7 (MaxPooling2 (None, 7, 7, 64)          0         \n",
            "_________________________________________________________________\n",
            "dropout_7 (Dropout)          (None, 7, 7, 64)          0         \n",
            "_________________________________________________________________\n",
            "conv2d_17 (Conv2D)           (None, 7, 7, 128)         73856     \n",
            "_________________________________________________________________\n",
            "batch_normalization_17 (Batc (None, 7, 7, 128)         512       \n",
            "_________________________________________________________________\n",
            "conv2d_18 (Conv2D)           (None, 7, 7, 128)         147584    \n",
            "_________________________________________________________________\n",
            "batch_normalization_18 (Batc (None, 7, 7, 128)         512       \n",
            "_________________________________________________________________\n",
            "max_pooling2d_8 (MaxPooling2 (None, 3, 3, 128)         0         \n",
            "_________________________________________________________________\n",
            "dropout_8 (Dropout)          (None, 3, 3, 128)         0         \n",
            "_________________________________________________________________\n",
            "conv2d_19 (Conv2D)           (None, 1, 1, 128)         147584    \n",
            "_________________________________________________________________\n",
            "batch_normalization_19 (Batc (None, 1, 1, 128)         512       \n",
            "_________________________________________________________________\n",
            "flatten_2 (Flatten)          (None, 128)               0         \n",
            "_________________________________________________________________\n",
            "dense_3 (Dense)              (None, 10)                1290      \n",
            "=================================================================\n",
            "Total params: 432,778\n",
            "Trainable params: 431,658\n",
            "Non-trainable params: 1,120\n",
            "_________________________________________________________________\n"
          ],
          "name": "stdout"
        }
      ]
    },
    {
      "cell_type": "code",
      "metadata": {
        "id": "92_vAAMP_Qyb",
        "colab_type": "code",
        "colab": {
          "base_uri": "https://localhost:8080/",
          "height": 34
        },
        "outputId": "518691bb-e2b7-4327-aa94-5dd98a62a080"
      },
      "source": [
        "train_set = get_batched_dataset(train, train=True)\n",
        "val_set = get_batched_dataset(val)\n",
        "\n",
        "train_df.shape, val_df.shape"
      ],
      "execution_count": 36,
      "outputs": [
        {
          "output_type": "execute_result",
          "data": {
            "text/plain": [
              "((37800, 784), (4200, 784))"
            ]
          },
          "metadata": {
            "tags": []
          },
          "execution_count": 36
        }
      ]
    },
    {
      "cell_type": "markdown",
      "metadata": {
        "id": "Q5QxdQmfjYVS",
        "colab_type": "text"
      },
      "source": [
        "### We can not use a TPU because learning fit requires a tf dataset and not a ImageDataGen"
      ]
    },
    {
      "cell_type": "code",
      "metadata": {
        "id": "oemGJJnndEZv",
        "colab_type": "code",
        "colab": {}
      },
      "source": [
        "def lr_fun(x):\n",
        "  return 1e-3 * 0.95 ** x"
      ],
      "execution_count": 0,
      "outputs": []
    },
    {
      "cell_type": "code",
      "metadata": {
        "id": "CvLXEU65YGU7",
        "colab_type": "code",
        "colab": {}
      },
      "source": [
        "datagen = tf.keras.preprocessing.image.ImageDataGenerator(\n",
        "        rotation_range=10,  \n",
        "        zoom_range = 0.1,  \n",
        "        width_shift_range=0.1, \n",
        "        height_shift_range=0.1)"
      ],
      "execution_count": 0,
      "outputs": []
    },
    {
      "cell_type": "code",
      "metadata": {
        "id": "4iITFqIG-qnt",
        "colab_type": "code",
        "colab": {
          "base_uri": "https://localhost:8080/",
          "height": 1000
        },
        "outputId": "e7d50d4b-3c6b-4306-c74b-2338931096cd"
      },
      "source": [
        "EPOCHS = 35\n",
        "annealer = tf.keras.callbacks.LearningRateScheduler(lr_fun)\n",
        "steps_per_epoch = train_values.shape[0] // BATCH_SIZE\n",
        "\n",
        "history = model.fit(datagen.flow(train_values, train_target, batch_size=BATCH_SIZE), \n",
        "                    steps_per_epoch=steps_per_epoch, epochs=EPOCHS, \n",
        "                    validation_data=val_set, callbacks=[annealer])"
      ],
      "execution_count": 39,
      "outputs": [
        {
          "output_type": "stream",
          "text": [
            "WARNING:tensorflow:sample_weight modes were coerced from\n",
            "  ...\n",
            "    to  \n",
            "  ['...']\n",
            "Train for 590 steps, validate for 66 steps\n",
            "Epoch 1/35\n",
            "590/590 [==============================] - 17s 29ms/step - loss: 0.4624 - accuracy: 0.8500 - val_loss: 0.1196 - val_accuracy: 0.9640\n",
            "Epoch 2/35\n",
            "590/590 [==============================] - 14s 24ms/step - loss: 0.1314 - accuracy: 0.9591 - val_loss: 0.0514 - val_accuracy: 0.9824\n",
            "Epoch 3/35\n",
            "590/590 [==============================] - 14s 23ms/step - loss: 0.0955 - accuracy: 0.9707 - val_loss: 0.0403 - val_accuracy: 0.9864\n",
            "Epoch 4/35\n",
            "590/590 [==============================] - 14s 23ms/step - loss: 0.0807 - accuracy: 0.9753 - val_loss: 0.0380 - val_accuracy: 0.9883\n",
            "Epoch 5/35\n",
            "590/590 [==============================] - 14s 24ms/step - loss: 0.0675 - accuracy: 0.9793 - val_loss: 0.0356 - val_accuracy: 0.9893\n",
            "Epoch 6/35\n",
            "590/590 [==============================] - 14s 23ms/step - loss: 0.0621 - accuracy: 0.9805 - val_loss: 0.0335 - val_accuracy: 0.9907\n",
            "Epoch 7/35\n",
            "590/590 [==============================] - 14s 23ms/step - loss: 0.0586 - accuracy: 0.9813 - val_loss: 0.0292 - val_accuracy: 0.9902\n",
            "Epoch 8/35\n",
            "590/590 [==============================] - 13s 23ms/step - loss: 0.0509 - accuracy: 0.9837 - val_loss: 0.0285 - val_accuracy: 0.9912\n",
            "Epoch 9/35\n",
            "590/590 [==============================] - 13s 23ms/step - loss: 0.0495 - accuracy: 0.9850 - val_loss: 0.0323 - val_accuracy: 0.9910\n",
            "Epoch 10/35\n",
            "590/590 [==============================] - 14s 23ms/step - loss: 0.0489 - accuracy: 0.9849 - val_loss: 0.0336 - val_accuracy: 0.9912\n",
            "Epoch 11/35\n",
            "590/590 [==============================] - 14s 23ms/step - loss: 0.0426 - accuracy: 0.9867 - val_loss: 0.0256 - val_accuracy: 0.9914\n",
            "Epoch 12/35\n",
            "590/590 [==============================] - 13s 22ms/step - loss: 0.0404 - accuracy: 0.9874 - val_loss: 0.0264 - val_accuracy: 0.9917\n",
            "Epoch 13/35\n",
            "590/590 [==============================] - 13s 22ms/step - loss: 0.0395 - accuracy: 0.9874 - val_loss: 0.0298 - val_accuracy: 0.9912\n",
            "Epoch 14/35\n",
            "590/590 [==============================] - 13s 22ms/step - loss: 0.0387 - accuracy: 0.9877 - val_loss: 0.0309 - val_accuracy: 0.9917\n",
            "Epoch 15/35\n",
            "590/590 [==============================] - 13s 23ms/step - loss: 0.0330 - accuracy: 0.9896 - val_loss: 0.0262 - val_accuracy: 0.9917\n",
            "Epoch 16/35\n",
            "590/590 [==============================] - 13s 23ms/step - loss: 0.0316 - accuracy: 0.9905 - val_loss: 0.0299 - val_accuracy: 0.9919\n",
            "Epoch 17/35\n",
            "590/590 [==============================] - 13s 22ms/step - loss: 0.0314 - accuracy: 0.9893 - val_loss: 0.0246 - val_accuracy: 0.9931\n",
            "Epoch 18/35\n",
            "590/590 [==============================] - 13s 22ms/step - loss: 0.0303 - accuracy: 0.9903 - val_loss: 0.0222 - val_accuracy: 0.9933\n",
            "Epoch 19/35\n",
            "590/590 [==============================] - 13s 23ms/step - loss: 0.0273 - accuracy: 0.9909 - val_loss: 0.0246 - val_accuracy: 0.9921\n",
            "Epoch 20/35\n",
            "590/590 [==============================] - 14s 23ms/step - loss: 0.0280 - accuracy: 0.9905 - val_loss: 0.0203 - val_accuracy: 0.9943\n",
            "Epoch 21/35\n",
            "590/590 [==============================] - 13s 22ms/step - loss: 0.0266 - accuracy: 0.9913 - val_loss: 0.0254 - val_accuracy: 0.9933\n",
            "Epoch 22/35\n",
            "590/590 [==============================] - 13s 22ms/step - loss: 0.0252 - accuracy: 0.9918 - val_loss: 0.0215 - val_accuracy: 0.9933\n",
            "Epoch 23/35\n",
            "590/590 [==============================] - 13s 22ms/step - loss: 0.0256 - accuracy: 0.9916 - val_loss: 0.0222 - val_accuracy: 0.9926\n",
            "Epoch 24/35\n",
            "590/590 [==============================] - 13s 23ms/step - loss: 0.0232 - accuracy: 0.9929 - val_loss: 0.0229 - val_accuracy: 0.9936\n",
            "Epoch 25/35\n",
            "590/590 [==============================] - 13s 22ms/step - loss: 0.0225 - accuracy: 0.9926 - val_loss: 0.0209 - val_accuracy: 0.9940\n",
            "Epoch 26/35\n",
            "590/590 [==============================] - 13s 22ms/step - loss: 0.0210 - accuracy: 0.9933 - val_loss: 0.0191 - val_accuracy: 0.9940\n",
            "Epoch 27/35\n",
            "590/590 [==============================] - 13s 22ms/step - loss: 0.0213 - accuracy: 0.9934 - val_loss: 0.0203 - val_accuracy: 0.9938\n",
            "Epoch 28/35\n",
            "590/590 [==============================] - 13s 22ms/step - loss: 0.0224 - accuracy: 0.9929 - val_loss: 0.0231 - val_accuracy: 0.9940\n",
            "Epoch 29/35\n",
            "590/590 [==============================] - 14s 23ms/step - loss: 0.0204 - accuracy: 0.9933 - val_loss: 0.0200 - val_accuracy: 0.9938\n",
            "Epoch 30/35\n",
            "590/590 [==============================] - 13s 22ms/step - loss: 0.0207 - accuracy: 0.9932 - val_loss: 0.0204 - val_accuracy: 0.9938\n",
            "Epoch 31/35\n",
            "590/590 [==============================] - 13s 22ms/step - loss: 0.0186 - accuracy: 0.9941 - val_loss: 0.0184 - val_accuracy: 0.9948\n",
            "Epoch 32/35\n",
            "590/590 [==============================] - 13s 22ms/step - loss: 0.0201 - accuracy: 0.9937 - val_loss: 0.0214 - val_accuracy: 0.9936\n",
            "Epoch 33/35\n",
            "590/590 [==============================] - 13s 22ms/step - loss: 0.0191 - accuracy: 0.9939 - val_loss: 0.0214 - val_accuracy: 0.9945\n",
            "Epoch 34/35\n",
            "590/590 [==============================] - 13s 22ms/step - loss: 0.0185 - accuracy: 0.9938 - val_loss: 0.0197 - val_accuracy: 0.9938\n",
            "Epoch 35/35\n",
            "590/590 [==============================] - 13s 22ms/step - loss: 0.0178 - accuracy: 0.9941 - val_loss: 0.0178 - val_accuracy: 0.9945\n"
          ],
          "name": "stdout"
        }
      ]
    },
    {
      "cell_type": "code",
      "metadata": {
        "id": "4odEJaOHAgpV",
        "colab_type": "code",
        "colab": {
          "base_uri": "https://localhost:8080/",
          "height": 755
        },
        "outputId": "20b4b300-d16a-44b0-aa2a-a9d6f61483ac"
      },
      "source": [
        "display_training_curves(history.history['accuracy'], history.history['val_accuracy'], 'accuracy', 211)\n",
        "display_training_curves(history.history['loss'], history.history['val_loss'], 'loss', 212)"
      ],
      "execution_count": 40,
      "outputs": [
        {
          "output_type": "display_data",
          "data": {
            "image/png": "[encoded data removed]",
            "text/plain": [
              "<Figure size 720x720 with 2 Axes>"
            ]
          },
          "metadata": {
            "tags": []
          }
        }
      ]
    },
    {
      "cell_type": "code",
      "metadata": {
        "id": "v6Hwldwzj-w2",
        "colab_type": "code",
        "colab": {}
      },
      "source": [
        "results = model.predict(test)\n",
        "results = np.argmax(results, axis=1)\n",
        "results = pd.Series(results, name='Label')\n",
        "submission = pd.concat([pd.Series(range(1,28001),name = \"ImageId\"), results],axis = 1)\n",
        "submission.to_csv(PATH + \"mnist_cnn_35_epoch.csv\",index=False)"
      ],
      "execution_count": 0,
      "outputs": []
    }
  ]
}