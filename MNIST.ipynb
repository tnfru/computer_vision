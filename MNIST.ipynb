{
 "cells": [
  {
   "cell_type": "code",
   "execution_count": 1,
   "metadata": {
    "autoscroll": false,
    "ein.hycell": false,
    "ein.tags": "worksheet-0",
    "slideshow": {
     "slide_type": "-"
    }
   },
   "outputs": [],
   "source": [
    "import numpy as np\n",
    "import torch\n",
    "import torch.nn as nn\n",
    "import torch.optim as optim\n",
    "from torchvision import datasets, transforms\n",
    "import matplotlib.pyplot as plt\n",
    "from copy import deepcopy"
   ]
  },
  {
   "cell_type": "code",
   "execution_count": 2,
   "metadata": {
    "autoscroll": false,
    "ein.hycell": false,
    "ein.tags": "worksheet-0",
    "slideshow": {
     "slide_type": "-"
    }
   },
   "outputs": [],
   "source": [
    "tr = transforms.Compose([transforms.ToTensor(), transforms.Normalize((0.5,), (0.5,))])"
   ]
  },
  {
   "cell_type": "code",
   "execution_count": 3,
   "metadata": {
    "autoscroll": false,
    "ein.hycell": false,
    "ein.tags": "worksheet-0",
    "slideshow": {
     "slide_type": "-"
    }
   },
   "outputs": [],
   "source": [
    "data = datasets.MNIST('./MNIST_data/', download=True, train=True, transform=tr)\n",
    "\n",
    "val_data = torch.utils.data.Subset(data, range(12000))\n",
    "val_loader = torch.utils.data.DataLoader(val_data, batch_size=64, shuffle=True)\n",
    "\n",
    "train_data = torch.utils.data.Subset(data, range(12000, 60000))\n",
    "train_loader = torch.utils.data.DataLoader(train_data, batch_size=64, shuffle=True)\n",
    "\n",
    "test_data = datasets.MNIST('./MNIST_data', download=True, train=False, transform=tr)\n",
    "test_loader = torch.utils.data.DataLoader(test_data, batch_size=len(test_data), shuffle=True, num_workers=1)"
   ]
  },
  {
   "cell_type": "code",
   "execution_count": 4,
   "metadata": {
    "autoscroll": false,
    "ein.hycell": false,
    "ein.tags": "worksheet-0",
    "slideshow": {
     "slide_type": "-"
    }
   },
   "outputs": [
    {
     "data": {
      "image/png": "[encoded data removed]",
      "text/plain": [
       "<Figure size 432x288 with 1 Axes>"
      ]
     },
     "metadata": {
      "needs_background": "light"
     },
     "output_type": "display_data"
    }
   ],
   "source": [
    "plt.imshow(train_data[2][0].reshape(28, 28), cmap='gray');"
   ]
  },
  {
   "cell_type": "code",
   "execution_count": 5,
   "metadata": {
    "autoscroll": false,
    "ein.hycell": false,
    "ein.tags": "worksheet-0",
    "slideshow": {
     "slide_type": "-"
    }
   },
   "outputs": [],
   "source": [
    "class Net(nn.Module):\n",
    "    def __init__(self):\n",
    "        super(Net, self).__init__()\n",
    "        self.layer1 = nn.Sequential(nn.Conv2d(1, 5, 3, padding=1),\n",
    "                                    nn.BatchNorm2d(5),\n",
    "                                    nn.ReLU(),\n",
    "                                    nn.MaxPool2d(kernel_size=2))\n",
    "        self.layer2 = nn.Sequential(nn.Conv2d(5, 5, 3, padding=1),\n",
    "                                    nn.BatchNorm2d(5),\n",
    "                                    nn.ReLU(),\n",
    "                                    nn.MaxPool2d(kernel_size=2))\n",
    "        self.layer3 = nn.Sequential(nn.Linear(245, 32),\n",
    "                                    nn.ReLU())\n",
    "        self.layer4 = nn.Sequential(nn.Linear(32, 10))\n",
    "\n",
    "    def forward(self, X):\n",
    "        X = self.layer1(X)\n",
    "        X = self.layer2(X)\n",
    "        X = X.reshape(X.size(0), -1)\n",
    "        X = self.layer3(X)\n",
    "        X = self.layer4(X)\n",
    "        return X\n",
    "\n",
    "    def evaluate(self, X):\n",
    "        if len(X.size()) == 3:\n",
    "            X.unsqueeze(0)\n",
    "        Y = self.forward(X)\n",
    "        return torch.argmax(Y, dim=1)"
   ]
  },
  {
   "cell_type": "code",
   "execution_count": 6,
   "metadata": {
    "autoscroll": false,
    "ein.hycell": false,
    "ein.tags": "worksheet-0",
    "slideshow": {
     "slide_type": "-"
    }
   },
   "outputs": [],
   "source": [
    "def is_overfitting(net, past_val_acc):\n",
    "    val_x, val_y = [(x, y) for x, y in val_loader][0]\n",
    "    predicted_class = net.evaluate(val_x)\n",
    "    past_val_acc.append((predicted_class == val_y).float().mean().item())\n",
    "    \n",
    "    if len(past_val_acc) > 4 and sum(past_val_acc[-4:-2]) > sum(past_val_acc[-2:]):\n",
    "        return True\n",
    "\n",
    "    return False"
   ]
  },
  {
   "cell_type": "code",
   "execution_count": 7,
   "metadata": {
    "autoscroll": false,
    "ein.hycell": false,
    "ein.tags": "worksheet-0",
    "slideshow": {
     "slide_type": "-"
    }
   },
   "outputs": [],
   "source": [
    "net = Net()\n",
    "params = list(net.parameters())\n",
    "opt = optim.Adam(params)\n",
    "criterion = nn.CrossEntropyLoss()"
   ]
  },
  {
   "cell_type": "code",
   "execution_count": 8,
   "metadata": {
    "autoscroll": false,
    "ein.hycell": false,
    "ein.tags": "worksheet-0",
    "slideshow": {
     "slide_type": "-"
    }
   },
   "outputs": [],
   "source": [
    "epochs = 10\n",
    "past_val_acc = []\n",
    "past_models = []"
   ]
  },
  {
   "cell_type": "code",
   "execution_count": 9,
   "metadata": {
    "autoscroll": false,
    "ein.hycell": false,
    "ein.tags": "worksheet-0",
    "scrolled": true,
    "slideshow": {
     "slide_type": "-"
    }
   },
   "outputs": [
    {
     "name": "stdout",
     "output_type": "stream",
     "text": [
      "Epoche: 1 Batch: 100 Loss: 0.5936825275421143\n",
      "Epoche: 1 Batch: 200 Loss: 0.3167075514793396\n",
      "Epoche: 1 Batch: 300 Loss: 0.272394061088562\n",
      "Epoche: 1 Batch: 400 Loss: 0.3714227080345154\n",
      "Epoche: 1 Batch: 500 Loss: 0.20686568319797516\n",
      "Epoche: 1 Batch: 600 Loss: 0.25579261779785156\n",
      "Epoche: 1 Batch: 700 Loss: 0.12753330171108246\n",
      "Epoche: 2 Batch: 100 Loss: 0.09052973240613937\n",
      "Epoche: 2 Batch: 200 Loss: 0.09029269218444824\n",
      "Epoche: 2 Batch: 300 Loss: 0.046541277319192886\n",
      "Epoche: 2 Batch: 400 Loss: 0.04127237945795059\n",
      "Epoche: 2 Batch: 500 Loss: 0.2555873394012451\n",
      "Epoche: 2 Batch: 600 Loss: 0.1328536570072174\n",
      "Epoche: 2 Batch: 700 Loss: 0.11641748994588852\n",
      "Epoche: 3 Batch: 100 Loss: 0.12668336927890778\n",
      "Epoche: 3 Batch: 200 Loss: 0.1037973165512085\n",
      "Epoche: 3 Batch: 300 Loss: 0.049126122146844864\n",
      "Epoche: 3 Batch: 400 Loss: 0.04098806902766228\n",
      "Epoche: 3 Batch: 500 Loss: 0.11066616326570511\n",
      "Epoche: 3 Batch: 600 Loss: 0.03503258898854256\n",
      "Epoche: 3 Batch: 700 Loss: 0.006119975354522467\n",
      "Epoche: 4 Batch: 100 Loss: 0.10786019265651703\n",
      "Epoche: 4 Batch: 200 Loss: 0.015795638784766197\n",
      "Epoche: 4 Batch: 300 Loss: 0.10588207840919495\n",
      "Epoche: 4 Batch: 400 Loss: 0.07254079729318619\n",
      "Epoche: 4 Batch: 500 Loss: 0.03168244659900665\n",
      "Epoche: 4 Batch: 600 Loss: 0.09623875468969345\n",
      "Epoche: 4 Batch: 700 Loss: 0.04092150181531906\n",
      "Epoche: 5 Batch: 100 Loss: 0.013942115008831024\n",
      "Epoche: 5 Batch: 200 Loss: 0.015889400616288185\n",
      "Epoche: 5 Batch: 300 Loss: 0.17380815744400024\n",
      "Epoche: 5 Batch: 400 Loss: 0.12202271819114685\n",
      "Epoche: 5 Batch: 500 Loss: 0.058778315782547\n",
      "Epoche: 5 Batch: 600 Loss: 0.140035480260849\n",
      "Epoche: 5 Batch: 700 Loss: 0.06581546366214752\n"
     ]
    }
   ],
   "source": [
    "for i in range(epochs):\n",
    "    for j, (inputs, labels) in enumerate(train_loader):\n",
    "        opt.zero_grad()\n",
    "        outputs = net(inputs)\n",
    "        loss = criterion(outputs, labels)\n",
    "        loss.backward()\n",
    "        opt.step()\n",
    "\n",
    "        if (j + 1) % 100 == 0:\n",
    "            print(\"Epoche:\", i + 1, \"Batch:\", j + 1, \"Loss:\", loss.item())\n",
    "            \n",
    "    past_models.append(deepcopy(net))\n",
    "    if is_overfitting(net, past_val_acc):\n",
    "         break"
   ]
  },
  {
   "cell_type": "code",
   "execution_count": 10,
   "metadata": {
    "autoscroll": false,
    "ein.hycell": false,
    "ein.tags": "worksheet-0",
    "slideshow": {
     "slide_type": "-"
    }
   },
   "outputs": [
    {
     "data": {
      "text/plain": [
       "[0.9375, 0.953125, 1.0, 0.953125, 0.953125]"
      ]
     },
     "execution_count": 10,
     "metadata": {},
     "output_type": "execute_result"
    }
   ],
   "source": [
    "past_val_acc"
   ]
  },
  {
   "cell_type": "code",
   "execution_count": 15,
   "metadata": {},
   "outputs": [],
   "source": [
    "#net = past_models[-2] #optional if other net performed better\n",
    "net.train(False);"
   ]
  },
  {
   "cell_type": "code",
   "execution_count": 16,
   "metadata": {
    "autoscroll": false,
    "ein.hycell": false,
    "ein.tags": "worksheet-0",
    "slideshow": {
     "slide_type": "-"
    }
   },
   "outputs": [
    {
     "data": {
      "text/plain": [
       "0.9811999797821045"
      ]
     },
     "execution_count": 16,
     "metadata": {},
     "output_type": "execute_result"
    }
   ],
   "source": [
    "test_x, test_labels = [(data, target) for data, target in test_loader][0]\n",
    "predicted_class = net.evaluate(test_x)\n",
    "\n",
    "(predicted_class == test_labels).float().mean().item()"
   ]
  }
 ],
 "metadata": {
  "kernelspec": {
   "display_name": "Python 3",
   "language": "python",
   "name": "python3"
  },
  "language_info": {
   "codemirror_mode": {
    "name": "ipython",
    "version": 3
   },
   "file_extension": ".py",
   "mimetype": "text/x-python",
   "name": "python",
   "nbconvert_exporter": "python",
   "pygments_lexer": "ipython3",
   "version": "3.7.5"
  },
  "name": "MNIST.ipynb"
 },
 "nbformat": 4,
 "nbformat_minor": 2
}
